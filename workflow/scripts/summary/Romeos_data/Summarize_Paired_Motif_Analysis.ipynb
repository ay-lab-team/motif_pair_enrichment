{
 "cells": [
  {
   "cell_type": "code",
   "execution_count": 5,
   "metadata": {},
   "outputs": [],
   "source": [
    "import os \n",
    "from glob import glob\n",
    "\n",
    "import numpy as np\n",
    "import pandas as pd\n",
    "import matplotlib.pyplot as plt\n",
    "from matplotlib.gridspec import GridSpec\n",
    "import seaborn as sns\n",
    "\n",
    "# change dir to project dir\n",
    "if 'changed' not in globals():\n",
    "    os.chdir('../../../..')\n",
    "    changed = 1"
   ]
  },
  {
   "cell_type": "code",
   "execution_count": 6,
   "metadata": {},
   "outputs": [],
   "source": [
    "outdir = 'results/motif_pairs/rignacio_work/summary/'\n",
    "os.makedirs(outdir, exist_ok=True)"
   ]
  },
  {
   "cell_type": "code",
   "execution_count": 7,
   "metadata": {},
   "outputs": [],
   "source": [
    "# output directory for simulations\n",
    "mp_data_dir = 'results/motif_pairs/rignacio_work/Motif_Pairs_100000_only_chr/a_plus/'\n",
    "glob_path = mp_data_dir + '{SAMPLE_NAME}/Q_values_sig.top_50_count.tsv'\n",
    "fns = glob(glob_path.format(SAMPLE_NAME='*'))"
   ]
  },
  {
   "cell_type": "code",
   "execution_count": 8,
   "metadata": {},
   "outputs": [
    {
     "data": {
      "text/plain": [
       "30"
      ]
     },
     "execution_count": 8,
     "metadata": {},
     "output_type": "execute_result"
    }
   ],
   "source": [
    "len(fns)"
   ]
  },
  {
   "cell_type": "code",
   "execution_count": 9,
   "metadata": {},
   "outputs": [
    {
     "name": "stdout",
     "output_type": "stream",
     "text": [
      "(1431, 10)\n",
      "(1275, 10)\n",
      "(1485, 10)\n",
      "(1431, 10)\n",
      "(1485, 10)\n",
      "(1275, 10)\n",
      "(1378, 10)\n",
      "(1275, 10)\n",
      "(1275, 10)\n",
      "(1275, 10)\n",
      "(1275, 10)\n",
      "(1275, 10)\n",
      "(1378, 10)\n",
      "(1275, 10)\n",
      "(1378, 10)\n",
      "(1275, 10)\n",
      "(1378, 10)\n",
      "(1378, 10)\n",
      "(1485, 10)\n",
      "(1378, 10)\n",
      "(1275, 10)\n",
      "(1378, 10)\n",
      "(1275, 10)\n",
      "(1275, 10)\n",
      "(1485, 10)\n",
      "(1378, 10)\n",
      "(1275, 10)\n",
      "(1275, 10)\n",
      "(1378, 10)\n",
      "(1275, 10)\n",
      "(40329, 11)\n",
      "(1660, 11)\n"
     ]
    }
   ],
   "source": [
    "# load the data\n",
    "data = []\n",
    "samples = []\n",
    "for fn in fns:\n",
    "\n",
    "    sample_name = fn.split('/')[-2]\n",
    "    samples.append(sample_name)\n",
    "    tdf = pd.read_table(fn)\n",
    "    print(tdf.shape)\n",
    "    tdf['sample_name'] = sample_name\n",
    "    data.append(tdf)\n",
    "\n",
    "all_df = pd.concat(data)\n",
    "print(all_df.shape)\n",
    "all_df = all_df.loc[all_df['Q_value'] < 0.05]\n",
    "#all_df = all_df.loc[all_df['Q_value'] < 0.01]\n",
    "print(all_df.shape)"
   ]
  },
  {
   "cell_type": "code",
   "execution_count": 10,
   "metadata": {},
   "outputs": [],
   "source": [
    "# sort the pairs before working with them\n",
    "def sort_pairs(sr):\n",
    "    pairs_list = [sr.Motif1.strip(), sr.Motif2.strip()]\n",
    "    return(sorted(pairs_list))\n",
    "anchor_sorted_1, anchor_sorted_2 = zip(*all_df.apply(sort_pairs, axis=1))\n",
    "all_df.loc[:, 'anchor_sorted_1'] = anchor_sorted_1\n",
    "all_df.loc[:, 'anchor_sorted_2'] = anchor_sorted_2\n",
    "all_df.loc[:, 'pair_sorted'] = all_df.loc[:, 'anchor_sorted_1'] + ',' + all_df.loc[:, 'anchor_sorted_2']"
   ]
  },
  {
   "cell_type": "code",
   "execution_count": 11,
   "metadata": {},
   "outputs": [
    {
     "name": "stderr",
     "output_type": "stream",
     "text": [
      "/tmp/ipykernel_116316/134741291.py:2: RuntimeWarning: divide by zero encountered in log\n",
      "  log_val = -np.log(x)\n"
     ]
    }
   ],
   "source": [
    "def get_log10(x, replace_inf=1000000):\n",
    "    log_val = -np.log(x)\n",
    "    if log_val < np.inf:\n",
    "        return(log_val)\n",
    "    else:\n",
    "        return(replace_inf)\n",
    "    \n",
    "# set replace_inf = 12 because \n",
    "# all_df.loc[~np.isinf(all_df['-log_qvalue'])]['-log_qvalue'].max() == 11\n",
    "all_df.loc[:, '-log_qvalue'] = all_df.Q_value.apply(get_log10, args=[12])\n",
    "#all_df.loc[:, '-log_qvalue'] = all_df.Q_value.apply(lambda x: -np.log(x))"
   ]
  },
  {
   "cell_type": "markdown",
   "metadata": {},
   "source": [
    "### Summary of Motif Pairs"
   ]
  },
  {
   "cell_type": "code",
   "execution_count": 12,
   "metadata": {},
   "outputs": [],
   "source": [
    "mp_grps = all_df.groupby(['pair_sorted']) \n",
    "mp_counts_ss = mp_grps.count()['Sim_Count'].to_frame()\n",
    "mp_counts_ss.sort_values(['Sim_Count'], ascending=[True], inplace=True)"
   ]
  },
  {
   "cell_type": "code",
   "execution_count": 13,
   "metadata": {},
   "outputs": [
    {
     "data": {
      "text/html": [
       "<div>\n",
       "<style scoped>\n",
       "    .dataframe tbody tr th:only-of-type {\n",
       "        vertical-align: middle;\n",
       "    }\n",
       "\n",
       "    .dataframe tbody tr th {\n",
       "        vertical-align: top;\n",
       "    }\n",
       "\n",
       "    .dataframe thead th {\n",
       "        text-align: right;\n",
       "    }\n",
       "</style>\n",
       "<table border=\"1\" class=\"dataframe\">\n",
       "  <thead>\n",
       "    <tr style=\"text-align: right;\">\n",
       "      <th></th>\n",
       "      <th>Sim_Count</th>\n",
       "    </tr>\n",
       "    <tr>\n",
       "      <th>pair_sorted</th>\n",
       "      <th></th>\n",
       "    </tr>\n",
       "  </thead>\n",
       "  <tbody>\n",
       "    <tr>\n",
       "      <th>KLF6,ZNF320</th>\n",
       "      <td>1</td>\n",
       "    </tr>\n",
       "    <tr>\n",
       "      <th>EWSR1-FLI1,TFAP2A</th>\n",
       "      <td>1</td>\n",
       "    </tr>\n",
       "    <tr>\n",
       "      <th>EWSR1-FLI1,TFAP2C</th>\n",
       "      <td>1</td>\n",
       "    </tr>\n",
       "    <tr>\n",
       "      <th>EWSR1-FLI1,ZNF454</th>\n",
       "      <td>1</td>\n",
       "    </tr>\n",
       "    <tr>\n",
       "      <th>EWSR1-FLI1,ZNF460</th>\n",
       "      <td>1</td>\n",
       "    </tr>\n",
       "    <tr>\n",
       "      <th>...</th>\n",
       "      <td>...</td>\n",
       "    </tr>\n",
       "    <tr>\n",
       "      <th>CTCF,ZNF320</th>\n",
       "      <td>19</td>\n",
       "    </tr>\n",
       "    <tr>\n",
       "      <th>THAP1,ZNF320</th>\n",
       "      <td>20</td>\n",
       "    </tr>\n",
       "    <tr>\n",
       "      <th>THAP11,THAP11</th>\n",
       "      <td>20</td>\n",
       "    </tr>\n",
       "    <tr>\n",
       "      <th>ZNF460,ZNF460</th>\n",
       "      <td>25</td>\n",
       "    </tr>\n",
       "    <tr>\n",
       "      <th>ZNF135,ZNF460</th>\n",
       "      <td>28</td>\n",
       "    </tr>\n",
       "  </tbody>\n",
       "</table>\n",
       "<p>455 rows × 1 columns</p>\n",
       "</div>"
      ],
      "text/plain": [
       "                   Sim_Count\n",
       "pair_sorted                 \n",
       "KLF6,ZNF320                1\n",
       "EWSR1-FLI1,TFAP2A          1\n",
       "EWSR1-FLI1,TFAP2C          1\n",
       "EWSR1-FLI1,ZNF454          1\n",
       "EWSR1-FLI1,ZNF460          1\n",
       "...                      ...\n",
       "CTCF,ZNF320               19\n",
       "THAP1,ZNF320              20\n",
       "THAP11,THAP11             20\n",
       "ZNF460,ZNF460             25\n",
       "ZNF135,ZNF460             28\n",
       "\n",
       "[455 rows x 1 columns]"
      ]
     },
     "execution_count": 13,
     "metadata": {},
     "output_type": "execute_result"
    }
   ],
   "source": [
    "mp_counts_ss"
   ]
  },
  {
   "cell_type": "code",
   "execution_count": 14,
   "metadata": {},
   "outputs": [
    {
     "data": {
      "text/plain": [
       "<Axes: xlabel='Sim_Count', ylabel='Count'>"
      ]
     },
     "execution_count": 14,
     "metadata": {},
     "output_type": "execute_result"
    },
    {
     "data": {
      "image/png": "[encoded data removed]",
      "text/plain": [
       "<Figure size 640x480 with 1 Axes>"
      ]
     },
     "metadata": {},
     "output_type": "display_data"
    }
   ],
   "source": [
    "sns.histplot(mp_counts_ss.Sim_Count)"
   ]
  },
  {
   "cell_type": "markdown",
   "metadata": {},
   "source": [
    "### Summary of 1D Motif"
   ]
  },
  {
   "cell_type": "code",
   "execution_count": 15,
   "metadata": {},
   "outputs": [],
   "source": [
    "left_df = all_df.drop(['anchor_sorted_2'], axis=1).rename(columns={'anchor_sorted_1': 'Motif'})\n",
    "right_df = all_df.drop(['anchor_sorted_1'], axis=1).rename(columns={'anchor_sorted_2': 'Motif'})\n",
    "oned_motif_df = pd.concat([left_df, right_df])"
   ]
  },
  {
   "cell_type": "code",
   "execution_count": 16,
   "metadata": {},
   "outputs": [
    {
     "data": {
      "text/html": [
       "<div>\n",
       "<style scoped>\n",
       "    .dataframe tbody tr th:only-of-type {\n",
       "        vertical-align: middle;\n",
       "    }\n",
       "\n",
       "    .dataframe tbody tr th {\n",
       "        vertical-align: top;\n",
       "    }\n",
       "\n",
       "    .dataframe thead th {\n",
       "        text-align: right;\n",
       "    }\n",
       "</style>\n",
       "<table border=\"1\" class=\"dataframe\">\n",
       "  <thead>\n",
       "    <tr style=\"text-align: right;\">\n",
       "      <th></th>\n",
       "      <th>Unnamed: 0</th>\n",
       "      <th>Pair</th>\n",
       "      <th>Sim_Count</th>\n",
       "      <th>P_value</th>\n",
       "      <th>Obs_Count</th>\n",
       "      <th>Motif1</th>\n",
       "      <th>Motif2</th>\n",
       "      <th>Contain_1</th>\n",
       "      <th>Contain_2</th>\n",
       "      <th>Q_value</th>\n",
       "      <th>sample_name</th>\n",
       "      <th>Motif</th>\n",
       "      <th>pair_sorted</th>\n",
       "      <th>-log_qvalue</th>\n",
       "    </tr>\n",
       "  </thead>\n",
       "  <tbody>\n",
       "    <tr>\n",
       "      <th>40</th>\n",
       "      <td>2632</td>\n",
       "      <td>('ASCL1', 'ZNF320')</td>\n",
       "      <td>6</td>\n",
       "      <td>0.00006</td>\n",
       "      <td>263</td>\n",
       "      <td>ZNF320</td>\n",
       "      <td>ASCL1</td>\n",
       "      <td>True</td>\n",
       "      <td>True</td>\n",
       "      <td>0.014310</td>\n",
       "      <td>Monocyte_1800-RH-1.phs001703v3p1.Homo_Sapiens....</td>\n",
       "      <td>ASCL1</td>\n",
       "      <td>ASCL1,ZNF320</td>\n",
       "      <td>4.246797</td>\n",
       "    </tr>\n",
       "    <tr>\n",
       "      <th>106</th>\n",
       "      <td>6834</td>\n",
       "      <td>('EHF', 'KLF6')</td>\n",
       "      <td>22</td>\n",
       "      <td>0.00022</td>\n",
       "      <td>120</td>\n",
       "      <td>KLF6</td>\n",
       "      <td>EHF</td>\n",
       "      <td>True</td>\n",
       "      <td>True</td>\n",
       "      <td>0.024217</td>\n",
       "      <td>Monocyte_1800-RH-1.phs001703v3p1.Homo_Sapiens....</td>\n",
       "      <td>EHF</td>\n",
       "      <td>EHF,KLF6</td>\n",
       "      <td>3.720704</td>\n",
       "    </tr>\n",
       "    <tr>\n",
       "      <th>113</th>\n",
       "      <td>7164</td>\n",
       "      <td>('KLF4', 'PLAG1')</td>\n",
       "      <td>32</td>\n",
       "      <td>0.00032</td>\n",
       "      <td>333</td>\n",
       "      <td>PLAG1</td>\n",
       "      <td>KLF4</td>\n",
       "      <td>True</td>\n",
       "      <td>True</td>\n",
       "      <td>0.030528</td>\n",
       "      <td>Monocyte_1800-RH-1.phs001703v3p1.Homo_Sapiens....</td>\n",
       "      <td>KLF4</td>\n",
       "      <td>KLF4,PLAG1</td>\n",
       "      <td>3.489111</td>\n",
       "    </tr>\n",
       "    <tr>\n",
       "      <th>172</th>\n",
       "      <td>11111</td>\n",
       "      <td>('THRA', 'ZNF460')</td>\n",
       "      <td>12</td>\n",
       "      <td>0.00012</td>\n",
       "      <td>1273</td>\n",
       "      <td>ZNF460</td>\n",
       "      <td>THRA</td>\n",
       "      <td>True</td>\n",
       "      <td>True</td>\n",
       "      <td>0.017172</td>\n",
       "      <td>Monocyte_1800-RH-1.phs001703v3p1.Homo_Sapiens....</td>\n",
       "      <td>THRA</td>\n",
       "      <td>THRA,ZNF460</td>\n",
       "      <td>4.064475</td>\n",
       "    </tr>\n",
       "    <tr>\n",
       "      <th>175</th>\n",
       "      <td>11271</td>\n",
       "      <td>('ZNF460', 'ZNF460')</td>\n",
       "      <td>1</td>\n",
       "      <td>0.00001</td>\n",
       "      <td>3202</td>\n",
       "      <td>ZNF460</td>\n",
       "      <td>ZNF460</td>\n",
       "      <td>True</td>\n",
       "      <td>True</td>\n",
       "      <td>0.004770</td>\n",
       "      <td>Monocyte_1800-RH-1.phs001703v3p1.Homo_Sapiens....</td>\n",
       "      <td>ZNF460</td>\n",
       "      <td>ZNF460,ZNF460</td>\n",
       "      <td>5.345409</td>\n",
       "    </tr>\n",
       "  </tbody>\n",
       "</table>\n",
       "</div>"
      ],
      "text/plain": [
       "     Unnamed: 0                  Pair  Sim_Count  P_value  Obs_Count   Motif1  \\\n",
       "40         2632   ('ASCL1', 'ZNF320')          6  0.00006        263   ZNF320   \n",
       "106        6834       ('EHF', 'KLF6')         22  0.00022        120     KLF6   \n",
       "113        7164     ('KLF4', 'PLAG1')         32  0.00032        333    PLAG1   \n",
       "172       11111    ('THRA', 'ZNF460')         12  0.00012       1273   ZNF460   \n",
       "175       11271  ('ZNF460', 'ZNF460')          1  0.00001       3202   ZNF460   \n",
       "\n",
       "     Motif2  Contain_1  Contain_2   Q_value  \\\n",
       "40    ASCL1       True       True  0.014310   \n",
       "106     EHF       True       True  0.024217   \n",
       "113    KLF4       True       True  0.030528   \n",
       "172    THRA       True       True  0.017172   \n",
       "175  ZNF460       True       True  0.004770   \n",
       "\n",
       "                                           sample_name   Motif    pair_sorted  \\\n",
       "40   Monocyte_1800-RH-1.phs001703v3p1.Homo_Sapiens....   ASCL1   ASCL1,ZNF320   \n",
       "106  Monocyte_1800-RH-1.phs001703v3p1.Homo_Sapiens....     EHF       EHF,KLF6   \n",
       "113  Monocyte_1800-RH-1.phs001703v3p1.Homo_Sapiens....    KLF4     KLF4,PLAG1   \n",
       "172  Monocyte_1800-RH-1.phs001703v3p1.Homo_Sapiens....    THRA    THRA,ZNF460   \n",
       "175  Monocyte_1800-RH-1.phs001703v3p1.Homo_Sapiens....  ZNF460  ZNF460,ZNF460   \n",
       "\n",
       "     -log_qvalue  \n",
       "40      4.246797  \n",
       "106     3.720704  \n",
       "113     3.489111  \n",
       "172     4.064475  \n",
       "175     5.345409  "
      ]
     },
     "execution_count": 16,
     "metadata": {},
     "output_type": "execute_result"
    }
   ],
   "source": [
    "oned_motif_df.head()"
   ]
  },
  {
   "cell_type": "code",
   "execution_count": 17,
   "metadata": {},
   "outputs": [],
   "source": [
    "motif_grps = oned_motif_df.groupby(['Motif']) \n",
    "motif_counts_ss = motif_grps.count()['Sim_Count'].to_frame()\n",
    "motif_counts_ss.sort_values(['Sim_Count'], ascending=[True], inplace=True)"
   ]
  },
  {
   "cell_type": "code",
   "execution_count": 18,
   "metadata": {},
   "outputs": [
    {
     "data": {
      "text/html": [
       "<div>\n",
       "<style scoped>\n",
       "    .dataframe tbody tr th:only-of-type {\n",
       "        vertical-align: middle;\n",
       "    }\n",
       "\n",
       "    .dataframe tbody tr th {\n",
       "        vertical-align: top;\n",
       "    }\n",
       "\n",
       "    .dataframe thead th {\n",
       "        text-align: right;\n",
       "    }\n",
       "</style>\n",
       "<table border=\"1\" class=\"dataframe\">\n",
       "  <thead>\n",
       "    <tr style=\"text-align: right;\">\n",
       "      <th></th>\n",
       "      <th>Sim_Count</th>\n",
       "    </tr>\n",
       "    <tr>\n",
       "      <th>Motif</th>\n",
       "      <th></th>\n",
       "    </tr>\n",
       "  </thead>\n",
       "  <tbody>\n",
       "    <tr>\n",
       "      <th>ZNF93</th>\n",
       "      <td>1</td>\n",
       "    </tr>\n",
       "    <tr>\n",
       "      <th>SPIB</th>\n",
       "      <td>1</td>\n",
       "    </tr>\n",
       "    <tr>\n",
       "      <th>EHF</th>\n",
       "      <td>1</td>\n",
       "    </tr>\n",
       "    <tr>\n",
       "      <th>ZNF610</th>\n",
       "      <td>2</td>\n",
       "    </tr>\n",
       "    <tr>\n",
       "      <th>E2F6</th>\n",
       "      <td>2</td>\n",
       "    </tr>\n",
       "    <tr>\n",
       "      <th>IRF1</th>\n",
       "      <td>2</td>\n",
       "    </tr>\n",
       "    <tr>\n",
       "      <th>SREBF1</th>\n",
       "      <td>4</td>\n",
       "    </tr>\n",
       "    <tr>\n",
       "      <th>SPI1</th>\n",
       "      <td>5</td>\n",
       "    </tr>\n",
       "    <tr>\n",
       "      <th>ZNF24</th>\n",
       "      <td>7</td>\n",
       "    </tr>\n",
       "    <tr>\n",
       "      <th>ZNF384</th>\n",
       "      <td>7</td>\n",
       "    </tr>\n",
       "    <tr>\n",
       "      <th>ZNF701</th>\n",
       "      <td>11</td>\n",
       "    </tr>\n",
       "    <tr>\n",
       "      <th>ZNF740</th>\n",
       "      <td>13</td>\n",
       "    </tr>\n",
       "    <tr>\n",
       "      <th>ELF3</th>\n",
       "      <td>15</td>\n",
       "    </tr>\n",
       "    <tr>\n",
       "      <th>KLF2</th>\n",
       "      <td>17</td>\n",
       "    </tr>\n",
       "    <tr>\n",
       "      <th>ZFP14</th>\n",
       "      <td>20</td>\n",
       "    </tr>\n",
       "    <tr>\n",
       "      <th>NRF1</th>\n",
       "      <td>20</td>\n",
       "    </tr>\n",
       "    <tr>\n",
       "      <th>KLF6</th>\n",
       "      <td>22</td>\n",
       "    </tr>\n",
       "    <tr>\n",
       "      <th>EBF1</th>\n",
       "      <td>24</td>\n",
       "    </tr>\n",
       "    <tr>\n",
       "      <th>SP5</th>\n",
       "      <td>25</td>\n",
       "    </tr>\n",
       "    <tr>\n",
       "      <th>TFAP2B</th>\n",
       "      <td>27</td>\n",
       "    </tr>\n",
       "    <tr>\n",
       "      <th>EGR1</th>\n",
       "      <td>27</td>\n",
       "    </tr>\n",
       "    <tr>\n",
       "      <th>ZNF549</th>\n",
       "      <td>30</td>\n",
       "    </tr>\n",
       "    <tr>\n",
       "      <th>ZKSCAN5</th>\n",
       "      <td>32</td>\n",
       "    </tr>\n",
       "    <tr>\n",
       "      <th>ZNF148</th>\n",
       "      <td>34</td>\n",
       "    </tr>\n",
       "    <tr>\n",
       "      <th>ZNF281</th>\n",
       "      <td>39</td>\n",
       "    </tr>\n",
       "    <tr>\n",
       "      <th>MAZ</th>\n",
       "      <td>42</td>\n",
       "    </tr>\n",
       "    <tr>\n",
       "      <th>RREB1</th>\n",
       "      <td>43</td>\n",
       "    </tr>\n",
       "    <tr>\n",
       "      <th>PRDM9</th>\n",
       "      <td>44</td>\n",
       "    </tr>\n",
       "    <tr>\n",
       "      <th>THAP11</th>\n",
       "      <td>47</td>\n",
       "    </tr>\n",
       "    <tr>\n",
       "      <th>TFAP2C</th>\n",
       "      <td>47</td>\n",
       "    </tr>\n",
       "    <tr>\n",
       "      <th>ZNF263</th>\n",
       "      <td>50</td>\n",
       "    </tr>\n",
       "    <tr>\n",
       "      <th>SP9</th>\n",
       "      <td>51</td>\n",
       "    </tr>\n",
       "    <tr>\n",
       "      <th>EWSR1-FLI1</th>\n",
       "      <td>53</td>\n",
       "    </tr>\n",
       "    <tr>\n",
       "      <th>KLF15</th>\n",
       "      <td>55</td>\n",
       "    </tr>\n",
       "    <tr>\n",
       "      <th>THRA</th>\n",
       "      <td>63</td>\n",
       "    </tr>\n",
       "    <tr>\n",
       "      <th>KLF16</th>\n",
       "      <td>65</td>\n",
       "    </tr>\n",
       "    <tr>\n",
       "      <th>PATZ1</th>\n",
       "      <td>65</td>\n",
       "    </tr>\n",
       "    <tr>\n",
       "      <th>TFAP2A</th>\n",
       "      <td>69</td>\n",
       "    </tr>\n",
       "    <tr>\n",
       "      <th>PLAG1</th>\n",
       "      <td>69</td>\n",
       "    </tr>\n",
       "    <tr>\n",
       "      <th>SP8</th>\n",
       "      <td>76</td>\n",
       "    </tr>\n",
       "    <tr>\n",
       "      <th>ZNF454</th>\n",
       "      <td>83</td>\n",
       "    </tr>\n",
       "    <tr>\n",
       "      <th>CTCFL</th>\n",
       "      <td>85</td>\n",
       "    </tr>\n",
       "    <tr>\n",
       "      <th>ZNF530</th>\n",
       "      <td>86</td>\n",
       "    </tr>\n",
       "    <tr>\n",
       "      <th>SP3</th>\n",
       "      <td>89</td>\n",
       "    </tr>\n",
       "    <tr>\n",
       "      <th>ZNF135</th>\n",
       "      <td>94</td>\n",
       "    </tr>\n",
       "    <tr>\n",
       "      <th>TCF4</th>\n",
       "      <td>101</td>\n",
       "    </tr>\n",
       "    <tr>\n",
       "      <th>ZNF768</th>\n",
       "      <td>113</td>\n",
       "    </tr>\n",
       "    <tr>\n",
       "      <th>KLF5</th>\n",
       "      <td>125</td>\n",
       "    </tr>\n",
       "    <tr>\n",
       "      <th>ZNF460</th>\n",
       "      <td>134</td>\n",
       "    </tr>\n",
       "    <tr>\n",
       "      <th>ASCL1</th>\n",
       "      <td>154</td>\n",
       "    </tr>\n",
       "    <tr>\n",
       "      <th>KLF4</th>\n",
       "      <td>157</td>\n",
       "    </tr>\n",
       "    <tr>\n",
       "      <th>KLF9</th>\n",
       "      <td>165</td>\n",
       "    </tr>\n",
       "    <tr>\n",
       "      <th>THAP1</th>\n",
       "      <td>194</td>\n",
       "    </tr>\n",
       "    <tr>\n",
       "      <th>ZNF320</th>\n",
       "      <td>236</td>\n",
       "    </tr>\n",
       "    <tr>\n",
       "      <th>CTCF</th>\n",
       "      <td>277</td>\n",
       "    </tr>\n",
       "  </tbody>\n",
       "</table>\n",
       "</div>"
      ],
      "text/plain": [
       "            Sim_Count\n",
       "Motif                \n",
       "ZNF93               1\n",
       "SPIB                1\n",
       "EHF                 1\n",
       "ZNF610              2\n",
       "E2F6                2\n",
       "IRF1                2\n",
       "SREBF1              4\n",
       "SPI1                5\n",
       "ZNF24               7\n",
       "ZNF384              7\n",
       "ZNF701             11\n",
       "ZNF740             13\n",
       "ELF3               15\n",
       "KLF2               17\n",
       "ZFP14              20\n",
       "NRF1               20\n",
       "KLF6               22\n",
       "EBF1               24\n",
       "SP5                25\n",
       "TFAP2B             27\n",
       "EGR1               27\n",
       "ZNF549             30\n",
       "ZKSCAN5            32\n",
       "ZNF148             34\n",
       "ZNF281             39\n",
       "MAZ                42\n",
       "RREB1              43\n",
       "PRDM9              44\n",
       "THAP11             47\n",
       "TFAP2C             47\n",
       "ZNF263             50\n",
       "SP9                51\n",
       "EWSR1-FLI1         53\n",
       "KLF15              55\n",
       "THRA               63\n",
       "KLF16              65\n",
       "PATZ1              65\n",
       "TFAP2A             69\n",
       "PLAG1              69\n",
       "SP8                76\n",
       "ZNF454             83\n",
       "CTCFL              85\n",
       "ZNF530             86\n",
       "SP3                89\n",
       "ZNF135             94\n",
       "TCF4              101\n",
       "ZNF768            113\n",
       "KLF5              125\n",
       "ZNF460            134\n",
       "ASCL1             154\n",
       "KLF4              157\n",
       "KLF9              165\n",
       "THAP1             194\n",
       "ZNF320            236\n",
       "CTCF              277"
      ]
     },
     "execution_count": 18,
     "metadata": {},
     "output_type": "execute_result"
    }
   ],
   "source": [
    "motif_counts_ss"
   ]
  },
  {
   "cell_type": "markdown",
   "metadata": {},
   "source": [
    "#### Making a jointplot of the motif-pair frequencies for different sample sets "
   ]
  },
  {
   "cell_type": "code",
   "execution_count": 19,
   "metadata": {},
   "outputs": [],
   "source": [
    "def get_motifs(x):\n",
    "    s = x.replace(\"'\", '').replace('(', '').replace(')', '').strip()\n",
    "    motifs = sorted(s.split(','))\n",
    "    return(motifs)"
   ]
  },
  {
   "cell_type": "code",
   "execution_count": 20,
   "metadata": {},
   "outputs": [
    {
     "data": {
      "text/plain": [
       "(20, 20)"
      ]
     },
     "execution_count": 20,
     "metadata": {},
     "output_type": "execute_result"
    }
   ],
   "source": [
    "# extract the counts for the current set\n",
    "a_plus_counts = mp_counts_ss\n",
    "\n",
    "# take the top n only\n",
    "topn = 25\n",
    "#topn = 1000\n",
    "a_plus_counts = a_plus_counts.sort_values('Sim_Count', ascending=False).iloc[0:topn]\n",
    "a_plus_counts.sort_index(inplace=True)\n",
    "\n",
    "# convert the index into two columns and sort \n",
    "left_anchors, right_anchors = list(zip(*map(lambda x: get_motifs(x), a_plus_counts.index)))\n",
    "\n",
    "a_plus_counts['anchor_sorted_1'] = left_anchors\n",
    "a_plus_counts['anchor_sorted_2'] = right_anchors\n",
    "a_plus_counts.sort_values(['anchor_sorted_1', 'anchor_sorted_2'], ascending=[False, False], inplace=True)\n",
    "\n",
    "# add reverse in order to have a symmetric matrix after pivoting \n",
    "a_plus_counts_rev = a_plus_counts.rename(columns={'anchor_sorted_1': 'anchor_sorted_2', 'anchor_sorted_2': 'anchor_sorted_1'})\n",
    "a_plus_counts = pd.concat([a_plus_counts, a_plus_counts_rev])\n",
    "\n",
    "# pivot the data into matrix for and fillna\n",
    "a_plus_counts_matrix = a_plus_counts.pivot_table(index='anchor_sorted_2', columns='anchor_sorted_1', values='Sim_Count', fill_value=0)\n",
    "#a_plus_counts_matrix.fillna(0, inplace=True)\n",
    "\n",
    "# # reverse the index values \n",
    "# rev_index = list(reversed(sorted(a_plus_counts_matrix.index)))\n",
    "# a_plus_counts_matrix = a_plus_counts_matrix.loc[rev_index]\n",
    "\n",
    "a_plus_counts_matrix.shape"
   ]
  },
  {
   "cell_type": "code",
   "execution_count": 21,
   "metadata": {},
   "outputs": [],
   "source": [
    "a_plus_counts_matrix.sort_index(ascending=False, inplace=True)"
   ]
  },
  {
   "cell_type": "code",
   "execution_count": 22,
   "metadata": {},
   "outputs": [],
   "source": [
    "# calculate frequencies for the column panel\n",
    "col_idxs = a_plus_counts_matrix.columns.tolist()\n",
    "col_oned_motif_counts = motif_counts_ss.loc[col_idxs].reset_index()\n",
    "\n",
    "# calculate frequencies for the row panel\n",
    "row_idxs = a_plus_counts_matrix.index.tolist()\n",
    "row_oned_motif_counts = a_plus_counts_matrix.sum().loc[row_idxs].to_frame().reset_index()\n",
    "row_oned_motif_counts.columns = ['Motif', 'topn_freq']\n",
    "\n",
    "# calculating the number \n",
    "num_a_samples = all_df.drop_duplicates(['sample_name']).shape[0]"
   ]
  },
  {
   "cell_type": "code",
   "execution_count": 23,
   "metadata": {},
   "outputs": [
    {
     "data": {
      "image/png": "[encoded data removed]",
      "text/plain": [
       "<Figure size 800x600 with 4 Axes>"
      ]
     },
     "metadata": {},
     "output_type": "display_data"
    }
   ],
   "source": [
    "fig = plt.figure(figsize=(8, 6))\n",
    "#fig = plt.figure(figsize=(16, 12))\n",
    "#fig = plt.figure(figsize=(32, 24))\n",
    "\n",
    "hspace = 0.03\n",
    "wspace = 0.05\n",
    "\n",
    "purple_rgb = tuple([0.57916573903086, 0.33934576125314425, 0.5219003947563425])\n",
    "\n",
    "# making the gridspec and separating each piece\n",
    "grid = GridSpec(2, 4, figure=fig, height_ratios=[1, 3], width_ratios=[3, 1, 0.5, 0.1], hspace=hspace, wspace=wspace)\n",
    "\n",
    "top_panel = fig.add_subplot(grid[0, 0])\n",
    "large_box = fig.add_subplot(grid[1, 0])\n",
    "\n",
    "right_panel = fig.add_subplot(grid[1, 1])\n",
    "legend_panel = fig.add_subplot(grid[1, 3])\n",
    "\n",
    "# drawing a heatmap in the large box\n",
    "#sns.heatmap(a_plus_counts_matrix, robust=False, ax=large_box, xticklabels=True, yticklabels=True, cbar_kws={'location': 'bottom'})\n",
    "sns.heatmap(a_plus_counts_matrix / num_a_samples, robust=False, ax=large_box, \n",
    "            xticklabels=True, yticklabels=True,\n",
    "            cbar=True, cbar_ax=legend_panel, \n",
    "            cmap=sns.cubehelix_palette(as_cmap=True), linewidths=0.003,\n",
    "            cbar_kws={'label': 'Proportion of Samples with Q-value < 0.05 (N = {})'.format(num_a_samples), 'location': 'left'})\n",
    "large_box.set(xlabel='', ylabel='')\n",
    "\n",
    "# drawing a barplot of 1D motif frequencies across the whole genome\n",
    "sns.barplot(x='Motif', y='Sim_Count', data=col_oned_motif_counts, color=purple_rgb, ax=top_panel)\n",
    "top_panel.set(xticklabels=[], xlabel='', ylabel='Genome-wide\\nFrequency', xticks=[])\n",
    "sns.despine(ax=top_panel, right=True, top=True)\n",
    "\n",
    "# drawing a barplot of 1D motif frequencies across the top 25 motif pairs\n",
    "sns.barplot(y='Motif', x='topn_freq', data=row_oned_motif_counts, color=purple_rgb, ax=right_panel)\n",
    "right_panel.set(yticklabels=[], ylabel='', xlabel='Top 25\\nFrequency', yticks=[])\n",
    "sns.despine(ax=right_panel, right=True, top=True)\n",
    "\n",
    "# save the figure \n",
    "fn = os.path.join(outdir, 'motif_pair_distributions.V1.png')\n",
    "fig.savefig(fn, dpi=600, bbox_inches='tight')"
   ]
  },
  {
   "cell_type": "markdown",
   "metadata": {},
   "source": [
    "### Making a Max Log(Q-value Version)"
   ]
  },
  {
   "cell_type": "code",
   "execution_count": 24,
   "metadata": {},
   "outputs": [
    {
     "data": {
      "text/plain": [
       "(55, 55)"
      ]
     },
     "execution_count": 24,
     "metadata": {},
     "output_type": "execute_result"
    }
   ],
   "source": [
    "# extract the counts for the current set\n",
    "mp_maxq_ss = mp_grps.max()\n",
    "maxq_counts = mp_maxq_ss\n",
    "\n",
    "# take the top n only\n",
    "topn = 1000\n",
    "maxq_counts = maxq_counts.sort_values('-log_qvalue', ascending=False)#.iloc[0:topn]\n",
    "\n",
    "# convert the index into two columns and sort \n",
    "left_anchors, right_anchors = list(zip(*map(lambda x: x.split(','), maxq_counts.index)))\n",
    "maxq_counts['anchor_sorted_1'] = left_anchors\n",
    "maxq_counts['anchor_sorted_2'] = right_anchors\n",
    "maxq_counts.sort_values(['anchor_sorted_1', 'anchor_sorted_1'], ascending=[True, True], inplace=True)\n",
    "\n",
    "# add reverse in order to have a symmetric matrix after pivoting \n",
    "maxq_counts_rev = maxq_counts.rename(columns={'anchor_sorted_1': 'anchor_sorted_2', 'anchor_sorted_2': 'anchor_sorted_1'})\n",
    "maxq_counts = pd.concat([maxq_counts, maxq_counts_rev])\n",
    "\n",
    "# pivot the data into matrix for and fillna\n",
    "maxq_counts_matrix = maxq_counts.pivot_table(index='anchor_sorted_2', columns='anchor_sorted_1', values='-log_qvalue', fill_value=0)\n",
    "#maxq_counts_matrix.fillna(0, inplace=True)\n",
    "\n",
    "# reverse the index values \n",
    "rev_index = list(reversed(sorted(maxq_counts_matrix.index)))\n",
    "maxq_counts_matrix = maxq_counts_matrix.loc[rev_index]\n",
    "\n",
    "maxq_counts_matrix.shape"
   ]
  },
  {
   "cell_type": "code",
   "execution_count": 25,
   "metadata": {},
   "outputs": [],
   "source": [
    "# #fig = plt.figure(figsize=(8, 6))\n",
    "# fig = plt.figure(figsize=(32, 24))\n",
    "\n",
    "# hspace = 0.03\n",
    "# wspace = 0.05\n",
    "\n",
    "# purple_rgb = tuple([0.57916573903086, 0.33934576125314425, 0.5219003947563425])\n",
    "\n",
    "# # making the gridspec and separating each piece\n",
    "# grid = GridSpec(2, 4, figure=fig, height_ratios=[1, 3], width_ratios=[3, 1, 0.5, 0.1], hspace=hspace, wspace=wspace)\n",
    "\n",
    "# top_panel = fig.add_subplot(grid[0, 0])\n",
    "# large_box = fig.add_subplot(grid[1, 0])\n",
    "\n",
    "# right_panel = fig.add_subplot(grid[1, 1])\n",
    "# legend_panel = fig.add_subplot(grid[1, 3])\n",
    "\n",
    "# # drawing a heatmap in the large box\n",
    "# #sns.heatmap(a_plus_counts_matrix, robust=False, ax=large_box, xticklabels=True, yticklabels=True, cbar_kws={'location': 'bottom'})\n",
    "# sns.heatmap(a_plus_counts_matrix, robust=False, ax=large_box, \n",
    "#             xticklabels=True, yticklabels=True,\n",
    "#             cbar=True, cbar_ax=legend_panel, \n",
    "#             cmap=sns.cubehelix_palette(as_cmap=True), linewidths=0.003,\n",
    "#             cbar_kws={'label': 'Proportion of Samples with Q-value < 0.05 (N = {})'.format(num_a_samples), 'location': 'left'})\n",
    "# large_box.set(xlabel='', ylabel='')\n",
    "\n",
    "# # drawing a barplot of 1D motif frequencies across the whole genome\n",
    "# sns.barplot(x='Motif', y='Sim_Count', data=col_oned_motif_counts, color=purple_rgb, ax=top_panel)\n",
    "# top_panel.set(xticklabels=[], xlabel='', ylabel='Genome-wide\\nFrequency', xticks=[])\n",
    "# sns.despine(ax=top_panel, right=True, top=True)\n",
    "\n",
    "# # drawing a barplot of 1D motif frequencies across the top 25 motif pairs\n",
    "# sns.barplot(y='Motif', x='topn_freq', data=row_oned_motif_counts, color=purple_rgb, ax=right_panel)\n",
    "# right_panel.set(yticklabels=[], ylabel='', xlabel='Top 25\\nFrequency', yticks=[])\n",
    "# sns.despine(ax=right_panel, right=True, top=True)\n",
    "\n",
    "# # save the figure \n",
    "# fn = os.path.join(outdir, 'motif_pair_distributions.max_log10_qvalue.V1.png')\n",
    "# fig.savefig(fn, dpi=600, bbox_inches='tight')"
   ]
  },
  {
   "cell_type": "code",
   "execution_count": 26,
   "metadata": {},
   "outputs": [],
   "source": [
    "# #fig = plt.figure(figsize=(8, 6))\n",
    "# fig = plt.figure(figsize=(32, 24))\n",
    "\n",
    "# hspace = 0.03\n",
    "# wspace = 0.05\n",
    "\n",
    "# purple_rgb = tuple([0.57916573903086, 0.33934576125314425, 0.5219003947563425])\n",
    "\n",
    "# # making the gridspec and separating each piece\n",
    "# grid = GridSpec(2, 4, figure=fig, height_ratios=[1, 3], width_ratios=[3, 1, 0.5, 0.1], hspace=hspace, wspace=wspace)\n",
    "\n",
    "# top_panel = fig.add_subplot(grid[0, 0])\n",
    "# large_box = fig.add_subplot(grid[1, 0])\n",
    "\n",
    "# right_panel = fig.add_subplot(grid[1, 1])\n",
    "# legend_panel = fig.add_subplot(grid[1, 3])\n",
    "\n",
    "# # drawing a heatmap in the large box\n",
    "# #sns.heatmap(a_plus_counts_matrix, robust=False, ax=large_box, xticklabels=True, yticklabels=True, cbar_kws={'location': 'bottom'})\n",
    "# sns.heatmap(maxq_counts_matrix, robust=False, ax=large_box,\n",
    "#             #annot=a_plus_counts_matrix, annot_kws={'fontsize': 5},\n",
    "#             xticklabels=True, yticklabels=True,\n",
    "#             cbar=True, cbar_ax=legend_panel, \n",
    "#             cmap=sns.cubehelix_palette(as_cmap=True), linewidths=0.003,\n",
    "#             cbar_kws={'label': 'Proportion of Samples with Q-value < 0.05 (N = {})'.format(num_a_samples), 'location': 'left'})\n",
    "# large_box.set(xlabel='', ylabel='')\n",
    "\n",
    "# # drawing a barplot of 1D motif frequencies across the whole genome\n",
    "# sns.barplot(x='Motif', y='Sim_Count', data=col_oned_motif_counts, color=purple_rgb, ax=top_panel)\n",
    "# top_panel.set(xticklabels=[], xlabel='', ylabel='Genome-wide\\nFrequency', xticks=[])\n",
    "# sns.despine(ax=top_panel, right=True, top=True)\n",
    "\n",
    "# # drawing a barplot of 1D motif frequencies across the top 25 motif pairs\n",
    "# sns.barplot(y='Motif', x='topn_freq', data=row_oned_motif_counts, color=purple_rgb, ax=right_panel)\n",
    "# right_panel.set(yticklabels=[], ylabel='', xlabel='Top 25\\nFrequency', yticks=[])\n",
    "# sns.despine(ax=right_panel, right=True, top=True)\n",
    "\n",
    "# # save the figure \n",
    "# fn = os.path.join(outdir, 'motif_pair_distributions.max_log10_qvalue.V1.png')\n",
    "# fig.savefig(fn, dpi=600, bbox_inches='tight')"
   ]
  },
  {
   "cell_type": "code",
   "execution_count": 27,
   "metadata": {},
   "outputs": [
    {
     "name": "stdout",
     "output_type": "stream",
     "text": [
      "BioAdHocGroups/vd-ay/jreyna/projects/motif_pair_enrichment/results/motif_pairs/rignacio_work/summary/\n"
     ]
    }
   ],
   "source": [
    "outdir_shared = os.path.join(os.getcwd(), outdir)\n",
    "outdir_shared = outdir_shared.replace('/mnt/bioadhoc/', 'BioAdHoc')\n",
    "print(outdir_shared)"
   ]
  },
  {
   "cell_type": "code",
   "execution_count": 28,
   "metadata": {},
   "outputs": [
    {
     "data": {
      "text/plain": [
       "'BioAdHocGroups/vd-ay/jreyna/projects/motif_pair_enrichment/results/motif_pairs/rignacio_work/summary/'"
      ]
     },
     "execution_count": 28,
     "metadata": {},
     "output_type": "execute_result"
    }
   ],
   "source": [
    "outdir_shared"
   ]
  },
  {
   "cell_type": "code",
   "execution_count": 29,
   "metadata": {},
   "outputs": [
    {
     "data": {
      "text/plain": [
       "'results/motif_pairs/rignacio_work/summary/motif_pair_distributions.V1.png'"
      ]
     },
     "execution_count": 29,
     "metadata": {},
     "output_type": "execute_result"
    }
   ],
   "source": [
    "fn"
   ]
  },
  {
   "cell_type": "code",
   "execution_count": 31,
   "metadata": {},
   "outputs": [],
   "source": [
    "from collections import Counter"
   ]
  },
  {
   "cell_type": "code",
   "execution_count": 32,
   "metadata": {},
   "outputs": [],
   "source": [
    "c = Counter()"
   ]
  },
  {
   "cell_type": "code",
   "execution_count": 34,
   "metadata": {},
   "outputs": [
    {
     "data": {
      "text/plain": [
       "0"
      ]
     },
     "execution_count": 34,
     "metadata": {},
     "output_type": "execute_result"
    }
   ],
   "source": [
    "c[100]"
   ]
  },
  {
   "cell_type": "code",
   "execution_count": 35,
   "metadata": {},
   "outputs": [
    {
     "data": {
      "text/plain": [
       "0"
      ]
     },
     "execution_count": 35,
     "metadata": {},
     "output_type": "execute_result"
    }
   ],
   "source": [
    "sum([])"
   ]
  },
  {
   "cell_type": "code",
   "execution_count": null,
   "metadata": {},
   "outputs": [],
   "source": []
  },
  {
   "cell_type": "code",
   "execution_count": null,
   "metadata": {},
   "outputs": [],
   "source": []
  },
  {
   "cell_type": "code",
   "execution_count": null,
   "metadata": {},
   "outputs": [],
   "source": []
  },
  {
   "cell_type": "code",
   "execution_count": null,
   "metadata": {},
   "outputs": [],
   "source": []
  }
 ],
 "metadata": {
  "kernelspec": {
   "display_name": "lc-pipelines",
   "language": "python",
   "name": "lc-pipelines"
  },
  "language_info": {
   "codemirror_mode": {
    "name": "ipython",
    "version": 3
   },
   "file_extension": ".py",
   "mimetype": "text/x-python",
   "name": "python",
   "nbconvert_exporter": "python",
   "pygments_lexer": "ipython3",
   "version": "3.12.0"
  }
 },
 "nbformat": 4,
 "nbformat_minor": 2
}
