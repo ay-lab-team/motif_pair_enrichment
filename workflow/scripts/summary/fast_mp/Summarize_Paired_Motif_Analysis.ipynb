{
 "cells": [
  {
   "cell_type": "code",
   "execution_count": 1,
   "metadata": {},
   "outputs": [],
   "source": [
    "import os \n",
    "from glob import glob\n",
    "import itertools as it \n",
    "\n",
    "import numpy as np\n",
    "import pandas as pd\n",
    "import matplotlib.pyplot as plt\n",
    "from matplotlib.gridspec import GridSpec\n",
    "import seaborn as sns\n",
    "\n",
    "# change dir to project dir\n",
    "if 'changed' not in globals():\n",
    "    os.chdir('../../../../')\n",
    "    changed = 1\n",
    "\n",
    "outdir = 'results/motif_pairs/chrom_correction_only/summary/'\n",
    "os.makedirs(outdir, exist_ok=True)"
   ]
  },
  {
   "cell_type": "code",
   "execution_count": 2,
   "metadata": {},
   "outputs": [],
   "source": [
    "# output directory for simulations\n",
    "num_top_motifs = 50\n",
    "#num_top_motifs = 100 \n",
    "SAMPLE_NAME='*'\n",
    "\n",
    "mp_data_dir = 'results/motif_pairs/chrom_correction_only.fast/'\n",
    "glob_path = mp_data_dir + f'{SAMPLE_NAME}/Q_values_sig.top_{num_top_motifs}_count.tsv'\n",
    "fns = glob(glob_path.format(glob_path))"
   ]
  },
  {
   "cell_type": "code",
   "execution_count": 3,
   "metadata": {},
   "outputs": [
    {
     "name": "stdout",
     "output_type": "stream",
     "text": [
      "(3098, 9)\n"
     ]
    }
   ],
   "source": [
    "# load the data\n",
    "data = []\n",
    "for fn in fns:\n",
    "\n",
    "    sample_name = fn.split('/')[-2]\n",
    "    tdf = pd.read_table(fn)\n",
    "    tdf['sample_name'] = sample_name\n",
    "    data.append(tdf)\n",
    "\n",
    "all_df = pd.concat(data)\n",
    "all_df = all_df.loc[all_df['Q_value'] < 0.05]\n",
    "#all_df = all_df.loc[all_df['Q_value'] < 0.00001]\n",
    "print(all_df.shape)"
   ]
  },
  {
   "cell_type": "code",
   "execution_count": 4,
   "metadata": {},
   "outputs": [],
   "source": [
    "# sort the pairs before working with them\n",
    "def sort_pairs(sr):\n",
    "    pairs_list = [sr.Motif1, sr.Motif2]\n",
    "    return(sorted(pairs_list))\n",
    "anchor_sorted_1, anchor_sorted_2 = zip(*all_df.apply(sort_pairs, axis=1))\n",
    "all_df.loc[:, 'anchor_sorted_1'] = anchor_sorted_1\n",
    "all_df.loc[:, 'anchor_sorted_2'] = anchor_sorted_2\n",
    "all_df.loc[:, 'pair_sorted'] = all_df.loc[:, 'anchor_sorted_1'] + ',' + all_df.loc[:, 'anchor_sorted_2']"
   ]
  },
  {
   "cell_type": "code",
   "execution_count": 5,
   "metadata": {},
   "outputs": [
    {
     "name": "stderr",
     "output_type": "stream",
     "text": [
      "/mnt/BioHome/jreyna/tmp/ipykernel_1900928/1728400676.py:2: RuntimeWarning: divide by zero encountered in log\n",
      "  log_val = -np.log(x)\n"
     ]
    }
   ],
   "source": [
    "def get_log10(x, replace_inf=1000000):\n",
    "    log_val = -np.log(x)\n",
    "    if log_val < np.inf:\n",
    "        return(log_val)\n",
    "    else:\n",
    "        return(replace_inf)\n",
    "    \n",
    "# set replace_inf = 12 because \n",
    "# all_df.loc[~np.isinf(all_df['-log_qvalue'])]['-log_qvalue'].max() == 11\n",
    "all_df.loc[:, '-log_qvalue'] = all_df.Q_value.apply(get_log10, args=[11])\n",
    "#all_df.loc[:, '-log_qvalue'] = all_df.Q_value.apply(lambda x: -np.log(x))"
   ]
  },
  {
   "cell_type": "code",
   "execution_count": null,
   "metadata": {},
   "outputs": [],
   "source": []
  },
  {
   "cell_type": "markdown",
   "metadata": {},
   "source": [
    "### Summary of Motif Pairs"
   ]
  },
  {
   "cell_type": "code",
   "execution_count": 6,
   "metadata": {},
   "outputs": [],
   "source": [
    "mp_grps = all_df.groupby('pair_sorted')\n",
    "mp_counts_ss = mp_grps.count()\n",
    "mp_grps = all_df.groupby(['pair_sorted']) \n",
    "mp_counts_ss = mp_grps.count()['Motif1'].rename('pair_count').to_frame()\n",
    "mp_counts_ss.sort_values(['pair_count'], ascending=[False], inplace=True)"
   ]
  },
  {
   "cell_type": "code",
   "execution_count": 7,
   "metadata": {},
   "outputs": [
    {
     "data": {
      "text/html": [
       "<div>\n",
       "<style scoped>\n",
       "    .dataframe tbody tr th:only-of-type {\n",
       "        vertical-align: middle;\n",
       "    }\n",
       "\n",
       "    .dataframe tbody tr th {\n",
       "        vertical-align: top;\n",
       "    }\n",
       "\n",
       "    .dataframe thead th {\n",
       "        text-align: right;\n",
       "    }\n",
       "</style>\n",
       "<table border=\"1\" class=\"dataframe\">\n",
       "  <thead>\n",
       "    <tr style=\"text-align: right;\">\n",
       "      <th></th>\n",
       "      <th>pair_count</th>\n",
       "    </tr>\n",
       "    <tr>\n",
       "      <th>pair_sorted</th>\n",
       "      <th></th>\n",
       "    </tr>\n",
       "  </thead>\n",
       "  <tbody>\n",
       "    <tr>\n",
       "      <th>ZNF135,ZNF460</th>\n",
       "      <td>53</td>\n",
       "    </tr>\n",
       "    <tr>\n",
       "      <th>KLF2,KLF6</th>\n",
       "      <td>48</td>\n",
       "    </tr>\n",
       "    <tr>\n",
       "      <th>SP3,SP9</th>\n",
       "      <td>44</td>\n",
       "    </tr>\n",
       "    <tr>\n",
       "      <th>KLF15,KLF5</th>\n",
       "      <td>43</td>\n",
       "    </tr>\n",
       "    <tr>\n",
       "      <th>KLF15,PATZ1</th>\n",
       "      <td>41</td>\n",
       "    </tr>\n",
       "  </tbody>\n",
       "</table>\n",
       "</div>"
      ],
      "text/plain": [
       "               pair_count\n",
       "pair_sorted              \n",
       "ZNF135,ZNF460          53\n",
       "KLF2,KLF6              48\n",
       "SP3,SP9                44\n",
       "KLF15,KLF5             43\n",
       "KLF15,PATZ1            41"
      ]
     },
     "execution_count": 7,
     "metadata": {},
     "output_type": "execute_result"
    }
   ],
   "source": [
    "mp_counts_ss.head()"
   ]
  },
  {
   "cell_type": "markdown",
   "metadata": {},
   "source": [
    "### Summary of 1D Motif"
   ]
  },
  {
   "cell_type": "code",
   "execution_count": 8,
   "metadata": {},
   "outputs": [],
   "source": [
    "left_df = all_df.drop(['anchor_sorted_2'], axis=1).rename(columns={'anchor_sorted_1': 'Motif'})\n",
    "right_df = all_df.drop(['anchor_sorted_1'], axis=1).rename(columns={'anchor_sorted_2': 'Motif'})\n",
    "oned_motif_df = pd.concat([left_df, right_df])"
   ]
  },
  {
   "cell_type": "code",
   "execution_count": 9,
   "metadata": {},
   "outputs": [],
   "source": [
    "motif_grps = oned_motif_df.groupby(['Motif']) \n",
    "motif_counts_ss = motif_grps.count()['Motif1'].rename('motif_count').to_frame()\n",
    "motif_counts_ss.sort_values(['motif_count'], ascending=[False], inplace=True)"
   ]
  },
  {
   "cell_type": "code",
   "execution_count": 10,
   "metadata": {},
   "outputs": [
    {
     "data": {
      "text/html": [
       "<div>\n",
       "<style scoped>\n",
       "    .dataframe tbody tr th:only-of-type {\n",
       "        vertical-align: middle;\n",
       "    }\n",
       "\n",
       "    .dataframe tbody tr th {\n",
       "        vertical-align: top;\n",
       "    }\n",
       "\n",
       "    .dataframe thead th {\n",
       "        text-align: right;\n",
       "    }\n",
       "</style>\n",
       "<table border=\"1\" class=\"dataframe\">\n",
       "  <thead>\n",
       "    <tr style=\"text-align: right;\">\n",
       "      <th></th>\n",
       "      <th>motif_count</th>\n",
       "    </tr>\n",
       "    <tr>\n",
       "      <th>Motif</th>\n",
       "      <th></th>\n",
       "    </tr>\n",
       "  </thead>\n",
       "  <tbody>\n",
       "    <tr>\n",
       "      <th>KLF5</th>\n",
       "      <td>302</td>\n",
       "    </tr>\n",
       "    <tr>\n",
       "      <th>PATZ1</th>\n",
       "      <td>300</td>\n",
       "    </tr>\n",
       "    <tr>\n",
       "      <th>KLF15</th>\n",
       "      <td>271</td>\n",
       "    </tr>\n",
       "    <tr>\n",
       "      <th>ZNF460</th>\n",
       "      <td>268</td>\n",
       "    </tr>\n",
       "    <tr>\n",
       "      <th>SP3</th>\n",
       "      <td>264</td>\n",
       "    </tr>\n",
       "    <tr>\n",
       "      <th>...</th>\n",
       "      <td>...</td>\n",
       "    </tr>\n",
       "    <tr>\n",
       "      <th>HES7</th>\n",
       "      <td>2</td>\n",
       "    </tr>\n",
       "    <tr>\n",
       "      <th>ZBTB6</th>\n",
       "      <td>1</td>\n",
       "    </tr>\n",
       "    <tr>\n",
       "      <th>FOXO1::ELF1</th>\n",
       "      <td>1</td>\n",
       "    </tr>\n",
       "    <tr>\n",
       "      <th>FOXJ2::ELF1</th>\n",
       "      <td>1</td>\n",
       "    </tr>\n",
       "    <tr>\n",
       "      <th>ZNF740</th>\n",
       "      <td>1</td>\n",
       "    </tr>\n",
       "  </tbody>\n",
       "</table>\n",
       "<p>67 rows × 1 columns</p>\n",
       "</div>"
      ],
      "text/plain": [
       "             motif_count\n",
       "Motif                   \n",
       "KLF5                 302\n",
       "PATZ1                300\n",
       "KLF15                271\n",
       "ZNF460               268\n",
       "SP3                  264\n",
       "...                  ...\n",
       "HES7                   2\n",
       "ZBTB6                  1\n",
       "FOXO1::ELF1            1\n",
       "FOXJ2::ELF1            1\n",
       "ZNF740                 1\n",
       "\n",
       "[67 rows x 1 columns]"
      ]
     },
     "execution_count": 10,
     "metadata": {},
     "output_type": "execute_result"
    }
   ],
   "source": [
    "motif_counts_ss"
   ]
  },
  {
   "cell_type": "markdown",
   "metadata": {},
   "source": [
    "#### Making a jointplot of the motif-pair frequencies for different sample sets "
   ]
  },
  {
   "cell_type": "code",
   "execution_count": 25,
   "metadata": {
    "scrolled": false
   },
   "outputs": [],
   "source": [
    "# extract the counts for the current set\n",
    "a_plus_counts = mp_counts_ss.copy(deep=True)\n",
    "\n",
    "# take the top n only\n",
    "topn = 10000\n",
    "topn = 25\n",
    "\n",
    "# finding the topn pairs\n",
    "a_plus_counts_topn = a_plus_counts.sort_values('pair_count', ascending=False).iloc[0:topn]\n"
   ]
  },
  {
   "cell_type": "code",
   "execution_count": null,
   "metadata": {},
   "outputs": [],
   "source": [
    "\n",
    "# for plotting, adding back the self-pairs\n",
    "pairs_for_plotting = a_plus_counts_topn.index.tolist()\n",
    "tmp_motifs = list(set(it.chain(*[x.split(',') for x in pairs_for_plotting])))\n",
    "self_motifs = ['{},{}'.format(x,x) for x in tmp_motifs]\n",
    "self_motifs = [x for x in self_motifs if x in a_plus_counts.index]\n",
    "pairs_for_plotting += self_motifs\n",
    "a_plus_counts = a_plus_counts.loc[a_plus_counts.index.isin(pairs_for_plotting)]"
   ]
  },
  {
   "cell_type": "code",
   "execution_count": 12,
   "metadata": {},
   "outputs": [],
   "source": [
    "# convert the index into two columns and sort \n",
    "left_anchors, right_anchors = list(zip(*map(lambda x: x.split(','), a_plus_counts.index)))\n",
    "a_plus_counts['anchor_sorted_1'] = left_anchors\n",
    "a_plus_counts['anchor_sorted_2'] = right_anchors\n",
    "a_plus_counts.sort_values(['anchor_sorted_1', 'anchor_sorted_2'], ascending=[False, False], inplace=True)\n",
    "\n",
    "# add reverse in order to have a symmetric matrix after pivoting \n",
    "a_plus_counts_rev = a_plus_counts.rename(columns={'anchor_sorted_1': 'anchor_sorted_2', 'anchor_sorted_2': 'anchor_sorted_1'})\n",
    "a_plus_counts = pd.concat([a_plus_counts, a_plus_counts_rev])\n",
    "\n",
    "# pivot the data into matrix for and fillna\n",
    "a_plus_counts_matrix = a_plus_counts.pivot_table(index='anchor_sorted_2', columns='anchor_sorted_1', values='pair_count', fill_value=0)\n",
    "#a_plus_counts_matrix.fillna(0, inplace=True)\n",
    "\n",
    "# reverse the index values \n",
    "rev_index = list(reversed(sorted(a_plus_counts_matrix.index)))\n",
    "a_plus_counts_matrix = a_plus_counts_matrix.loc[:, rev_index]"
   ]
  },
  {
   "cell_type": "code",
   "execution_count": 13,
   "metadata": {},
   "outputs": [
    {
     "data": {
      "text/plain": [
       "(17, 17)"
      ]
     },
     "execution_count": 13,
     "metadata": {},
     "output_type": "execute_result"
    }
   ],
   "source": [
    "a_plus_counts_matrix.shape"
   ]
  },
  {
   "cell_type": "code",
   "execution_count": 14,
   "metadata": {},
   "outputs": [],
   "source": [
    "# calculate frequencies for the column panel\n",
    "col_idxs = a_plus_counts_matrix.columns.tolist()\n",
    "col_oned_motif_counts = motif_counts_ss.loc[col_idxs].reset_index()\n",
    "\n",
    "# calculate frequencies for the row panel\n",
    "row_idxs = a_plus_counts_matrix.index.tolist()\n",
    "row_oned_motif_counts = a_plus_counts_matrix.sum().loc[row_idxs].to_frame().reset_index()\n",
    "row_oned_motif_counts.columns = ['Motif', 'topn_freq']\n",
    "\n",
    "# calculating the number \n",
    "num_a_samples = all_df.drop_duplicates(['sample_name']).shape[0]"
   ]
  },
  {
   "cell_type": "code",
   "execution_count": 15,
   "metadata": {},
   "outputs": [],
   "source": [
    "#fig = plt.figure(figsize=(8, 6))\n",
    "#fig = plt.figure(figsize=(16, 12))\n",
    "\n",
    "generate_plot1 = False\n",
    "if generate_plot1 == True:\n",
    "        \n",
    "    fig = plt.figure(figsize=(32, 24))\n",
    "\n",
    "    hspace = 0.03\n",
    "    wspace = 0.05\n",
    "\n",
    "    purple_rgb = tuple([0.57916573903086, 0.33934576125314425, 0.5219003947563425])\n",
    "\n",
    "    # making the gridspec and separating each piece\n",
    "    grid = GridSpec(2, 4, figure=fig, height_ratios=[1, 3], width_ratios=[3, 1, 0.5, 0.1], hspace=hspace, wspace=wspace)\n",
    "\n",
    "    top_panel = fig.add_subplot(grid[0, 0])\n",
    "    large_box = fig.add_subplot(grid[1, 0])\n",
    "\n",
    "    right_panel = fig.add_subplot(grid[1, 1])\n",
    "    legend_panel = fig.add_subplot(grid[1, 3])\n",
    "\n",
    "    # drawing a heatmap in the large box\n",
    "    #sns.heatmap(a_plus_counts_matrix, robust=False, ax=large_box, xticklabels=True, yticklabels=True, cbar_kws={'location': 'bottom'})\n",
    "    sns.heatmap(a_plus_counts_matrix / num_a_samples, robust=False, ax=large_box, annot=a_plus_counts_matrix,\n",
    "                xticklabels=True, yticklabels=True,\n",
    "                cbar=True, cbar_ax=legend_panel, \n",
    "                cmap=sns.cubehelix_palette(as_cmap=True), linewidths=0.003,\n",
    "                cbar_kws={'label': 'Proportion of Samples with Q-value < 0.05 (N = {})'.format(num_a_samples), 'location': 'left'})\n",
    "    large_box.set(xlabel='', ylabel='')\n",
    "\n",
    "    # drawing a barplot of 1D motif frequencies across the whole genome\n",
    "    sns.barplot(x='Motif', y='Sim_Count', data=col_oned_motif_counts, color=purple_rgb, ax=top_panel)\n",
    "    top_panel.set(xticklabels=[], xlabel='', ylabel='Genome-wide\\nFrequency', xticks=[])\n",
    "    sns.despine(ax=top_panel, right=True, top=True)\n",
    "\n",
    "    # drawing a barplot of 1D motif frequencies across the top 25 motif pairs\n",
    "    sns.barplot(y='Motif', x='topn_freq', data=row_oned_motif_counts, color=purple_rgb, ax=right_panel)\n",
    "    right_panel.set(yticklabels=[], ylabel='', xlabel=f'Top {topn}\\nFrequency', yticks=[])\n",
    "    sns.despine(ax=right_panel, right=True, top=True)\n",
    "\n",
    "    # save the figure \n",
    "    fn = os.path.join(outdir, f'motif_pair_distributions.{topn}.png')\n",
    "    fig.savefig(fn, dpi=600, bbox_inches='tight')"
   ]
  },
  {
   "cell_type": "code",
   "execution_count": 16,
   "metadata": {},
   "outputs": [
    {
     "data": {
      "image/png": "[encoded data removed]",
      "text/plain": [
       "<Figure size 800x600 with 4 Axes>"
      ]
     },
     "metadata": {},
     "output_type": "display_data"
    }
   ],
   "source": [
    "fig = plt.figure(figsize=(8, 6))\n",
    "#fig = plt.figure(figsize=(16, 12))\n",
    "#fig = plt.figure(figsize=(32, 24))\n",
    "\n",
    "vopt_dict = {25: {'vmin': 0, 'vmax': 1, 'linewidths': 0.5},\n",
    "             100: {'vmin': 0.25, 'vmax': 1, 'linewidths': 1},\n",
    "             10000: {'vmin': 0, 'vmax': 1, 'linewidths': 1}}\n",
    "generate_plot1 = True\n",
    "if generate_plot1 == True:\n",
    "    \n",
    "    hspace = 0.03\n",
    "    wspace = 0.05\n",
    "\n",
    "    purple_rgb = tuple([0.57916573903086, 0.33934576125314425, 0.5219003947563425])\n",
    "\n",
    "    # making the gridspec and separating each piece\n",
    "    grid = GridSpec(2, 4, figure=fig, height_ratios=[1, 3], width_ratios=[3, 1, 0.5, 0.1], hspace=hspace, wspace=wspace)\n",
    "\n",
    "    top_panel = fig.add_subplot(grid[0, 0])\n",
    "    large_box = fig.add_subplot(grid[1, 0])\n",
    "\n",
    "    right_panel = fig.add_subplot(grid[1, 1])\n",
    "    legend_panel = fig.add_subplot(grid[1, 3])\n",
    "\n",
    "    # drawing a heatmap in the large box\n",
    "    #sns.heatmap(a_plus_counts_matrix, robust=False, ax=large_box, xticklabels=True, yticklabels=True, cbar_kws={'location': 'bottom'})\n",
    "    sns.heatmap(a_plus_counts_matrix / num_a_samples, robust=False, ax=large_box, annot=a_plus_counts_matrix,\n",
    "                xticklabels=True, yticklabels=True,\n",
    "                cbar=True, cbar_ax=legend_panel, \n",
    "                cmap=sns.cubehelix_palette(light=0.95, as_cmap=True), linewidths=0.003,\n",
    "                vmin=vopt_dict[topn]['vmin'], vmax=vopt_dict[topn]['vmax'],\n",
    "                cbar_kws={'label': 'Proportion of Samples with Q-value < 0.05 (N = {})'.format(num_a_samples), 'location': 'left'})\n",
    "    large_box.set(xlabel='', ylabel='')\n",
    "    \n",
    "    # Draw borders around both the diagonal\n",
    "    for i in range(a_plus_counts_matrix.shape[0]):\n",
    "        for j in range(a_plus_counts_matrix.shape[1]):\n",
    "            if i == (a_plus_counts_matrix.shape[0] - j - 1):\n",
    "                large_box.add_patch(plt.Rectangle((j, i), 1, 1,\n",
    "                                                  fill=False,\n",
    "                                                  edgecolor='purple',\n",
    "                                                  linewidth=vopt_dict[topn]['linewidths']))\n",
    "\n",
    "    # drawing a barplot of 1D motif frequencies across the whole genome\n",
    "    sns.barplot(x='Motif', y='motif_count', data=col_oned_motif_counts, color=purple_rgb, ax=top_panel)\n",
    "    top_panel.set(xticklabels=[], xlabel='', ylabel='Genome-wide\\nFrequency', xticks=[])\n",
    "    sns.despine(ax=top_panel, right=True, top=True)\n",
    "\n",
    "    # drawing a barplot of 1D motif frequencies across the top 25 motif pairs\n",
    "    sns.barplot(y='Motif', x='topn_freq', data=row_oned_motif_counts, color=purple_rgb, ax=right_panel)\n",
    "    right_panel.set(yticklabels=[], ylabel='', xlabel=f'Top {topn}\\nFrequency', yticks=[])\n",
    "    sns.despine(ax=right_panel, right=True, top=True)\n",
    "\n",
    "    # save the figure \n",
    "    fn = os.path.join(outdir, f'motif_pair_distributions.vopts.{topn}.png')\n",
    "    fig.savefig(fn, dpi=600, bbox_inches='tight')"
   ]
  },
  {
   "cell_type": "code",
   "execution_count": 17,
   "metadata": {},
   "outputs": [
    {
     "data": {
      "image/png": "[encoded data removed]",
      "text/html": [
       "<div style=\"vertical-align: middle;\"><strong>seaborn_cubehelix</strong> </div><div class=\"cmap\"><img alt=\"seaborn_cubehelix colormap\" title=\"seaborn_cubehelix\" style=\"border: 1px solid #555;\" src=\"data:image/png;base64,iVBORw0KGgoAAAANSUhEUgAAAgAAAABACAYAAABsv8+/AAAAIHRFWHRUaXRsZQBzZWFib3JuX2N1YmVoZWxpeCBjb2xvcm1hcCHoIPcAAAAmdEVYdERlc2NyaXB0aW9uAHNlYWJvcm5fY3ViZWhlbGl4IGNvbG9ybWFwGlvH/wAAADB0RVh0QXV0aG9yAE1hdHBsb3RsaWIgdjMuOC4wLCBodHRwczovL21hdHBsb3RsaWIub3Jnn3P4TwAAADJ0RVh0U29mdHdhcmUATWF0cGxvdGxpYiB2My44LjAsIGh0dHBzOi8vbWF0cGxvdGxpYi5vcmex1WdoAAACC0lEQVR4nO3WsVKDQBSG0avv/6g2ljaLTYThwoYoY/Wf0ziBm2UhcfK9fX1+LFVVyxhVVVXL8vizPF4/jlftjz/mt7mlze3Xq7Hsj2+Dbd3nc+v8eO2687l2fLR9XO7v5lzb19/n6rW5tp/1dL/O4X6ez23Pcf/6uF47vz6nftn+/WvX+Zkb6xvO76vvb9RLc7P5be58nev93V3v/Pz8Pu7NHT/n/dy4ez/rv8nvns/8uufrtK/XYW67/r3r9vOjrtZ7/rn088f1ljZ/vr91nXrtvvv8bJ/9/aMu1pusO7/v2XP857np/va/d9f3O341d/lcql1/tr91nfb7PFnvvQCAOAIAAAIJAAAIJAAAIJAAAIBAAgAAAgkAAAgkAAAgkAAAgEACAAACCQAACCQAACCQAACAQAIAAAIJAAAIJAAAIJAAAIBAAgAAAgkAAAgkAAAgkAAAgEACAAACCQAACCQAACCQAACAQAIAAAIJAAAIJAAAIJAAAIBAAgAAAgkAAAgkAAAgkAAAgEACAAACCQAACCQAACCQAACAQAIAAAIJAAAIJAAAIJAAAIBAAgAAAgkAAAgkAAAgkAAAgEACAAACCQAACCQAACCQAACAQAIAAAIJAAAIJAAAIJAAAIBAAgAAAgkAAAgkAAAgkAAAgEACAAACCQAACCQAACCQAACAQAIAAAIJAAAI9A261wck1fO3HgAAAABJRU5ErkJggg==\"></div><div style=\"vertical-align: middle; max-width: 514px; display: flex; justify-content: space-between;\"><div style=\"float: left;\"><div title=\"#f9f1ecff\" style=\"display: inline-block; width: 1em; height: 1em; margin: 0; vertical-align: middle; border: 1px solid #555; background-color: #f9f1ecff;\"></div> under</div><div style=\"margin: 0 auto; display: inline-block;\">bad <div title=\"#00000000\" style=\"display: inline-block; width: 1em; height: 1em; margin: 0; vertical-align: middle; border: 1px solid #555; background-color: #00000000;\"></div></div><div style=\"float: right;\">over <div title=\"#2d1e3eff\" style=\"display: inline-block; width: 1em; height: 1em; margin: 0; vertical-align: middle; border: 1px solid #555; background-color: #2d1e3eff;\"></div></div>"
      ],
      "text/plain": [
       "<matplotlib.colors.ListedColormap at 0x7f26878c6f30>"
      ]
     },
     "execution_count": 17,
     "metadata": {},
     "output_type": "execute_result"
    }
   ],
   "source": [
    "sns.cubehelix_palette(light=0.95, as_cmap=True)"
   ]
  },
  {
   "cell_type": "code",
   "execution_count": 18,
   "metadata": {},
   "outputs": [],
   "source": [
    "# import numpy as np\n",
    "# import seaborn as sns\n",
    "# import matplotlib.pyplot as plt\n",
    "\n",
    "# # Create sample data\n",
    "# data = np.random.rand(10, 10)\n",
    "\n",
    "# # Create the heatmap using seaborn\n",
    "# sns.heatmap(data, cmap='coolwarm')\n",
    "\n",
    "# # Draw borders around both main and opposite diagonals\n",
    "# for i in range(data.shape[0]):\n",
    "#     for j in range(data.shape[1]):\n",
    "#         if i == (data.shape[0] - j - 1):\n",
    "#             plt.gca().add_patch(plt.Rectangle((j, i), 1, 1, fill=False, edgecolor='red', linewidth=2))\n",
    "\n",
    "# # Show the plot\n",
    "# plt.show()\n"
   ]
  },
  {
   "cell_type": "markdown",
   "metadata": {},
   "source": [
    "## Generating the Supplementary Table "
   ]
  },
  {
   "cell_type": "code",
   "execution_count": 52,
   "metadata": {},
   "outputs": [
    {
     "name": "stderr",
     "output_type": "stream",
     "text": [
      "/mnt/BioHome/jreyna/tmp/ipykernel_1439605/3158985449.py:4: SettingWithCopyWarning: \n",
      "A value is trying to be set on a copy of a slice from a DataFrame\n",
      "\n",
      "See the caveats in the documentation: https://pandas.pydata.org/pandas-docs/stable/user_guide/indexing.html#returning-a-view-versus-a-copy\n",
      "  top_25_motifs_all_df.sort_values(['sample_name', 'pair_sorted'], inplace=True)\n"
     ]
    }
   ],
   "source": [
    "mp_list = a_plus_counts_matrix.columns.tolist()\n",
    "top_25_motifs_all_df = all_df.loc[all_df.Motif1.isin(mp_list) & all_df.Motif2.isin(mp_list)]\n",
    "\n",
    "top_25_motifs_all_df.sort_values(['sample_name', 'pair_sorted'], inplace=True)\n",
    "\n",
    "# dropping and reordering columns\n",
    "top_25_motifs_all_df = top_25_motifs_all_df[['sample_name', 'Motif1', 'Motif2', 'Obs_Count', 'Sim_Count', 'P_value', 'Q_value']]\n",
    "\n",
    "# rename the columns\n",
    "top_25_motifs_all_df.columns = ['Sample Name', 'Motif1', 'Motif2',\n",
    "                                'Observed Count', 'Simulated Count', 'P-value', 'Q-value']\n",
    "\n",
    "# save the table\n",
    "fn = os.path.join(outdir, f'top{topn}.motif-pairs.sample-wise.tsv')\n",
    "top_25_motifs_all_df.to_csv(fn, sep='\\t', index=False)"
   ]
  }
 ],
 "metadata": {
  "kernelspec": {
   "display_name": "lc-pipelines",
   "language": "python",
   "name": "lc-pipelines"
  },
  "language_info": {
   "codemirror_mode": {
    "name": "ipython",
    "version": 3
   },
   "file_extension": ".py",
   "mimetype": "text/x-python",
   "name": "python",
   "nbconvert_exporter": "python",
   "pygments_lexer": "ipython3",
   "version": "3.12.0"
  }
 },
 "nbformat": 4,
 "nbformat_minor": 2
}
